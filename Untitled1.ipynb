{
 "cells": [
  {
   "cell_type": "code",
   "execution_count": null,
   "metadata": {},
   "outputs": [
    {
     "name": "stdout",
     "output_type": "stream",
     "text": [
      "WELCOME TO GUESS ME!\n",
      "I'm thinking of a number between 1 and 100\n",
      "If your guess is more than 10 away from my number, I'll tell you you're COLD\n",
      "If your guess is within 10 of my number, I'll tell you you're WARM\n",
      "If your guess is further than your most recent guess, I'll say you're getting COLDER\n",
      "If your guess is closer than your most recent guess, I'll say you're getting WARMER\n",
      "LET'S PLAY!\n"
     ]
    }
   ],
   "source": [
    "# Importing Random Function\n",
    "import random\n",
    "\n",
    "num = random.randint(1, 100)\n",
    "\n",
    "print(\"WELCOME TO GUESS ME!\")\n",
    "print(\"I'm thinking of a number between 1 and 100\")\n",
    "print(\"If your guess is more than 10 away from my number, I'll tell you you're COLD\")\n",
    "print(\"If your guess is within 10 of my number, I'll tell you you're WARM\")\n",
    "print(\"If your guess is further than your most recent guess, I'll say you're getting COLDER\")\n",
    "print(\"If your guess is closer than your most recent guess, I'll say you're getting WARMER\")\n",
    "print(\"LET'S PLAY!\")\n",
    "\n",
    "# Putting a placeholder \n",
    "guesses = [0]\n",
    "\n",
    "while True:\n",
    "    guess = int(input(\"I am taking a number in between 1 yo 100:\\n What is your guess?\"))\n",
    "    if guess < 1 or guess > 100:\n",
    "        print(\"OUT OF BOUNDS! Please guess a number in between 1 to 100\")\n",
    "        continue\n",
    "    if guess == num:\n",
    "        print(f\"Congratulations! You gussed the number in {len(guesses)} Gusses\")\n",
    "        break\n",
    "        \n",
    "    # If guess is not matching add guess to gusses\n",
    "    guesses.append(guess)\n",
    "    \n",
    "    if guesses[-2]:\n",
    "        if abs(num-guess) < abs(num-guesses[-2]):\n",
    "            print(\"Warmer!\")\n",
    "        else:\n",
    "            print(\"Colder!\")\n",
    "    else:\n",
    "        if abs(num-guess) <= 10:\n",
    "            print(\"Warm!\")\n",
    "        else:\n",
    "            print(\"Cold!\")\n",
    "        \n"
   ]
  },
  {
   "cell_type": "code",
   "execution_count": null,
   "metadata": {},
   "outputs": [],
   "source": [
    "def pig_latin(word):\n",
    "    \n",
    "    first_letter = word[0]\n",
    "    \n",
    "    if first_letter in 'aeiou':\n",
    "        pig_word = word + 'ay'\n",
    "    else:\n",
    "        pig_word = word[1:] + first_letter + 'ay'\n",
    "        \n",
    "    return pig_word\n"
   ]
  },
  {
   "cell_type": "code",
   "execution_count": null,
   "metadata": {},
   "outputs": [],
   "source": [
    "pig_latin('arrow')"
   ]
  },
  {
   "cell_type": "code",
   "execution_count": null,
   "metadata": {},
   "outputs": [],
   "source": [
    " "
   ]
  }
 ],
 "metadata": {
  "kernelspec": {
   "display_name": "Python 3",
   "language": "python",
   "name": "python3"
  },
  "language_info": {
   "codemirror_mode": {
    "name": "ipython",
    "version": 3
   },
   "file_extension": ".py",
   "mimetype": "text/x-python",
   "name": "python",
   "nbconvert_exporter": "python",
   "pygments_lexer": "ipython3",
   "version": "3.7.4"
  }
 },
 "nbformat": 4,
 "nbformat_minor": 2
}
